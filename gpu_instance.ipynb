{
 "cells": [
  {
   "cell_type": "markdown",
   "id": "57e77494-2f5b-48ac-bac2-684e6184cb5e",
   "metadata": {},
   "source": [
    "# Launching a GPU instance on KVM@TACC"
   ]
  },
  {
   "cell_type": "markdown",
   "id": "06dd9225-1ad9-4214-8a54-8a79bba867b0",
   "metadata": {},
   "source": [
    "The first thing we'll have to do is configure our experiment environment to use KVM."
   ]
  },
  {
   "cell_type": "code",
   "execution_count": null,
   "id": "400dc578-53be-4f46-b956-c3765a43b07c",
   "metadata": {},
   "outputs": [],
   "source": [
    "from chi import context\n",
    "\n",
    "context.use_site(\"KVM@TACC\")\n",
    "context.choose_project()"
   ]
  },
  {
   "cell_type": "markdown",
   "id": "78946961-3c3a-4a21-8dc2-ffb7fd1fe2cf",
   "metadata": {},
   "source": [
    "#### Listing flavors\n",
    "To get the list of reservable flavors, you can filter the output of `server.list_flavors`. We'll need the ID of this flavor to make a lease."
   ]
  },
  {
   "cell_type": "code",
   "execution_count": null,
   "id": "644b5b31-2fc0-488d-a779-bbd4b827b2a8",
   "metadata": {},
   "outputs": [],
   "source": [
    "import chi.server\n",
    "\n",
    "flavors = chi.server.list_flavors(reservable=True)\n",
    "# filter flavors by the one we are looking for\n",
    "my_flavor = next(f for f in flavors if f.name == \"g1.h100.pci.1\")\n",
    "print(f\"{my_flavor.name} --- {my_flavor.description}\")"
   ]
  },
  {
   "cell_type": "code",
   "execution_count": null,
   "id": "8943d32b-a795-4e9f-872e-23d1d6960d88",
   "metadata": {},
   "outputs": [],
   "source": [
    "from chi import lease\n",
    "from datetime import timedelta\n",
    "import os\n",
    "\n",
    "my_lease = lease.Lease(f\"{os.getenv('USER')}-gpu-lease\", duration=timedelta(hours=2))\n",
    "my_lease.add_flavor_reservation(id=my_flavor.id, amount=1)\n",
    "my_lease.submit(idempotent=True)"
   ]
  },
  {
   "cell_type": "markdown",
   "id": "90e78f65-d221-4958-904c-05509b1a9551",
   "metadata": {},
   "source": [
    "### Creating a server\n",
    "\n",
    "Now you can get the flavor from your lease, and use it when creating a server. Unlike baremetal, starting a VM only takes 1-3 minutes."
   ]
  },
  {
   "cell_type": "code",
   "execution_count": null,
   "id": "63800139-d4ef-4f1c-ac22-e96c2198a6f0",
   "metadata": {},
   "outputs": [],
   "source": [
    "from chi import server\n",
    "\n",
    "reserved_flavor = my_lease.get_reserved_flavors().pop()\n",
    "\n",
    "my_server = server.Server(\n",
    "    f\"{os.getenv('USER')}-gpu-instance\",\n",
    "    flavor_name=reserved_flavor.name,\n",
    "    image_name=\"CC-Ubuntu24.04-CUDA\",\n",
    "    key_name=\"mark-work\",\n",
    ")\n",
    "my_server.submit(idempotent=True)"
   ]
  },
  {
   "cell_type": "markdown",
   "id": "78d50a19-f6ab-48f5-b1cd-fc5ee3950fcb",
   "metadata": {},
   "source": [
    "#### Associating a floating IP address\n",
    "\n",
    "There are no floating IP reservations at KVM@TACC, we can just grab a floating IP address from the pool of available floating IPs. It is important to remember that we only have a finite amount of floating IP addresses, and it is critical to your fellow researchers that you are conservative in the number you allocate to your own experiments.\n",
    "\n",
    "If you need multiple VMs for your experiment, consider putting them all on one network. Then, you can use one floating IP to connect to a \"head\" node, and connect to all your other nodes via the head node."
   ]
  },
  {
   "cell_type": "code",
   "execution_count": null,
   "id": "94717638-c1e0-445a-8620-60d560027668",
   "metadata": {},
   "outputs": [],
   "source": [
    "fip = my_server.associate_floating_ip()"
   ]
  },
  {
   "cell_type": "markdown",
   "id": "e7428af9-2bdf-4a90-84f8-eced54cb8a14",
   "metadata": {},
   "source": [
    "#### Security Groups\n",
    "A unique feature of the KVM cloud is availability of security groups. These are unique firewall rules that are configurable via OpenStack and the horizon dashboard. This is a convenient way of configuring your VM's security. These groups exist on the bare-metal cloud, but they don't actually do anything there.\n",
    "\n",
    "By default, all incoming connections to your VM are blocked. In order to allow remote connections, we'll need to assign the \"Allow SSH\" security group to our VM. We'll find it by listing all the groups below.\n",
    "\n",
    "In most cases, _this is the ONLY security group you should ever add to your VM._"
   ]
  },
  {
   "cell_type": "code",
   "execution_count": null,
   "id": "ec85bbe3-5b3a-487b-ae8e-bc5eac225ae3",
   "metadata": {},
   "outputs": [],
   "source": [
    "from chi import network\n",
    "\n",
    "existing_groups = network.list_security_groups(name_filter=\"ssh\")\n",
    "if existing_groups:\n",
    "    sg = existing_groups.pop()\n",
    "    print(f\"Using existing SSH security group - '{sg.name}'\")\n",
    "else:\n",
    "    print(\"Creating new SSH group 'Allow SSH'\")\n",
    "    sg = network.SecurityGroup({\"name\": \"Allow SSH\", \"description\": \"Allow incoming SSH connections\"})\n",
    "    sg.add_rule(\"ingress\", \"tcp\", 22)\n",
    "    sg.submit()\n",
    "\n",
    "my_server.add_security_group(sg.id)"
   ]
  },
  {
   "cell_type": "code",
   "execution_count": null,
   "id": "bac180e9-d579-423b-94a1-0138c0ae50a8",
   "metadata": {},
   "outputs": [],
   "source": [
    "my_server.check_connectivity()"
   ]
  },
  {
   "cell_type": "markdown",
   "id": "98403214-0054-4d94-a921-29e4adafadde",
   "metadata": {},
   "source": [
    "## Using the GPU"
   ]
  },
  {
   "cell_type": "markdown",
   "id": "f2b8fb87-e363-40db-8a90-580c1428ac42",
   "metadata": {},
   "source": [
    "Since we launched a CUDA image, we can confirm the GPU is working by running `nvidia-smi`. This will output information about the GPU such as the model and the driver."
   ]
  },
  {
   "cell_type": "code",
   "execution_count": null,
   "id": "a2b50e40-c5e9-4c20-a5f0-04eed3775301",
   "metadata": {},
   "outputs": [],
   "source": [
    "my_server.execute(\"nvidia-smi\", connect_kwargs={\"key_filename\": \"/Users/mark/.ssh/id_rsa\"})"
   ]
  },
  {
   "cell_type": "markdown",
   "id": "492aacb4-3476-466d-a87a-ca4801a35ddf",
   "metadata": {},
   "source": [
    "Now you can do anything you want that normally requires a GPU!"
   ]
  },
  {
   "cell_type": "markdown",
   "id": "8414d0bc-7e5c-4c60-a126-10e6d915bfb3",
   "metadata": {},
   "source": [
    "# (Optional) Add a persistant volume\n",
    "\n",
    "Your instance will be deleted when your lease ends. One advantage of using KVM is that you can attach persistant volumes to your instances as a block device, and then mount it. Next time you launch an instance, you can reattach the same volume to resume your work.\n",
    "\n",
    "First, we'll create a new volume."
   ]
  },
  {
   "cell_type": "code",
   "execution_count": null,
   "id": "78d60a5c-c8e3-4f9e-91cb-ec7eafd777e2",
   "metadata": {},
   "outputs": [],
   "source": [
    "from chi import storage\n",
    "\n",
    "v = storage.Volume(f\"{os.getenv('USER')}-gpu-volume-2\", 1)  # 1 GB in size.\n",
    "v.submit(idempotent=True)"
   ]
  },
  {
   "cell_type": "markdown",
   "id": "e9b57b69-a13d-4ff9-8d71-c0b71a31c3b9",
   "metadata": {},
   "source": [
    "Next, attach it to the instance."
   ]
  },
  {
   "cell_type": "code",
   "execution_count": null,
   "id": "d7754994-a2bb-4eaa-a960-1e263c64afb2",
   "metadata": {},
   "outputs": [],
   "source": [
    "my_server.attach_volume(v.id)"
   ]
  },
  {
   "cell_type": "markdown",
   "id": "1f29bfe9-eb0c-4e11-b9de-99aef6d2a221",
   "metadata": {},
   "source": [
    "Now you should see 2 devices under `lsblk`. The first will be the root disk that the OS is installed on. The second will be a 1GB sized disk. To mount it, see the man page or an online guide for the `mount` command."
   ]
  },
  {
   "cell_type": "code",
   "execution_count": null,
   "id": "b3591aa8-0e0d-4d32-895a-85c643629854",
   "metadata": {},
   "outputs": [],
   "source": [
    "my_server.execute(\"lsblk\", connect_kwargs={\"key_filename\": \"/Users/mark/.ssh/id_rsa\"})"
   ]
  },
  {
   "cell_type": "markdown",
   "id": "9842693a-287f-4ee9-a59e-133d140af3fb",
   "metadata": {},
   "source": [
    "To cleanup, we can detach the volume from the server. If you don't want to keep your data, you can uncommend the line that also deletes your volume."
   ]
  },
  {
   "cell_type": "code",
   "execution_count": null,
   "id": "2f7a8cea-d247-4bb1-a400-b2a88db99b4f",
   "metadata": {},
   "outputs": [],
   "source": [
    "my_server.detach_volume(v.id)\n",
    "v.delete()"
   ]
  },
  {
   "cell_type": "code",
   "execution_count": null,
   "id": "22062058-c4f7-4975-949d-0ec6efe9e3f8",
   "metadata": {},
   "outputs": [],
   "source": []
  }
 ],
 "metadata": {
  "kernelspec": {
   "display_name": "Python 3 (ipykernel)",
   "language": "python",
   "name": "python3"
  },
  "language_info": {
   "codemirror_mode": {
    "name": "ipython",
    "version": 3
   },
   "file_extension": ".py",
   "mimetype": "text/x-python",
   "name": "python",
   "nbconvert_exporter": "python",
   "pygments_lexer": "ipython3",
   "version": "3.13.3"
  }
 },
 "nbformat": 4,
 "nbformat_minor": 5
}
